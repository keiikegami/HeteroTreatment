{
 "cells": [
  {
   "cell_type": "markdown",
   "metadata": {},
   "source": [
    "# exogeneous case\n",
    "\n",
    "Try the below situations. Both of them are observable heterogeneity. And not high dimensional case.\n",
    "\n",
    "Under RCT\n",
    "\n",
    "1. $y_i = x_i^{'} \\beta + \\gamma d_i + \\epsilon_i$, homogeneous treatment effects\n",
    "2. $y_i = x_i^{'} \\beta + cross(d_i, x_i)^{'} \\gamma + \\epsilon_i$, heterogeneous treatment effects by the observable variables\n",
    "3. $y_i = x_i^{'} \\beta + \\gamma d_i + cross(d_i, w_i)^{'} \\delta + \\epsilon_i$, heterogeneous treatment effects by the unobservable variables\n",
    "\n",
    "$x_i = (1,\\ z_i)^{'}$ where $z_i \\sim N(0,1)$. And $w_i$ can not be ovserved. I try the two cases where $Cov(x_i, w_i) \\neq 0$. This means $x_i$ is the proxy for $w_i$. So the cross term is replaced by $cross(d_i, x_i)$ in estimation.\n",
    "\n",
    "\n",
    "わかったこと\n",
    "- 真のmodelを$ITE = 1 + \\frac{1}{2} z_i$のように完全に正しく特定したregressionは強い\n",
    "- ヘテロがある状況でヘテロを考えないで回帰すると当然regressionは無力\n",
    "- NNならヘテロがあるかどうかわからなくても、変数をそのまま入れて学習させることで予測値の差がindividual treatment effectに近くなる\n",
    "- 観測できない異質性が存在し、その代理変数を用いることのできる場合においてNNがregressionに対して有利というわけではない"
   ]
  },
  {
   "cell_type": "code",
   "execution_count": 2,
   "metadata": {},
   "outputs": [],
   "source": [
    "% matplotlib inline\n",
    "import matplotlib.pyplot as plt\n",
    "import numpy as np\n",
    "from sklearn import datasets, linear_model\n",
    "from sklearn.metrics import mean_squared_error, r2_score\n",
    "from sklearn.neural_network import MLPRegressor"
   ]
  },
  {
   "cell_type": "markdown",
   "metadata": {},
   "source": [
    "## specification 1\n",
    "$\\beta = (1,-1)^{'}, \\gamma = 1$"
   ]
  },
  {
   "cell_type": "code",
   "execution_count": 72,
   "metadata": {},
   "outputs": [],
   "source": [
    "# data generation\n",
    "np.random.seed(0)\n",
    "sample_size = 100000\n",
    "half_size = int(sample_size/2)\n",
    "z = np.random.normal(size = (sample_size,1))\n",
    "d1 = np.ones((half_size,1))\n",
    "d0 = np.zeros((half_size,1))\n",
    "d = np.vstack((d0,d1))\n",
    "const = np.ones((sample_size,1))\n",
    "x = np.hstack((np.hstack((const, z)), d))\n",
    "y = 1 + -z + d + np.random.normal(scale = 0.5, size = (sample_size,1))\n",
    "\n",
    "# make counter X\n",
    "d1_counter = np.zeros((half_size,1))\n",
    "d0_counter = np.ones((half_size,1))\n",
    "d_counter = np.vstack((d0_counter, d1_counter))\n",
    "x_counter = np.hstack((np.hstack((const, z)), d_counter))"
   ]
  },
  {
   "cell_type": "markdown",
   "metadata": {},
   "source": [
    "### regression"
   ]
  },
  {
   "cell_type": "code",
   "execution_count": 5,
   "metadata": {},
   "outputs": [
    {
     "name": "stdout",
     "output_type": "stream",
     "text": [
      "Coefficients: \n",
      " [[ 0.99711691 -0.99813625  1.00582469]]\n"
     ]
    }
   ],
   "source": [
    "# regression\n",
    "regr = linear_model.LinearRegression(fit_intercept=False)\n",
    "regr.fit(x, y)\n",
    "\n",
    "# The coefficients\n",
    "print('Coefficients: \\n', regr.coef_)"
   ]
  },
  {
   "cell_type": "markdown",
   "metadata": {},
   "source": [
    "### neural nets"
   ]
  },
  {
   "cell_type": "code",
   "execution_count": 6,
   "metadata": {},
   "outputs": [
    {
     "name": "stderr",
     "output_type": "stream",
     "text": [
      "/Users/keiikegami/anaconda3/lib/python3.7/site-packages/sklearn/neural_network/multilayer_perceptron.py:1306: DataConversionWarning: A column-vector y was passed when a 1d array was expected. Please change the shape of y to (n_samples, ), for example using ravel().\n",
      "  y = column_or_1d(y, warn=True)\n"
     ]
    },
    {
     "data": {
      "text/plain": [
       "MLPRegressor(activation='relu', alpha=0.0001, batch_size='auto', beta_1=0.9,\n",
       "       beta_2=0.999, early_stopping=False, epsilon=1e-08,\n",
       "       hidden_layer_sizes=(10,), learning_rate='constant',\n",
       "       learning_rate_init=0.001, max_iter=200, momentum=0.9,\n",
       "       nesterovs_momentum=True, power_t=0.5, random_state=None,\n",
       "       shuffle=True, solver='adam', tol=0.0001, validation_fraction=0.1,\n",
       "       verbose=False, warm_start=False)"
      ]
     },
     "execution_count": 6,
     "metadata": {},
     "output_type": "execute_result"
    }
   ],
   "source": [
    "# neural nets\n",
    "nn = MLPRegressor(hidden_layer_sizes=(10, ))\n",
    "nn.fit(x, y)"
   ]
  },
  {
   "cell_type": "code",
   "execution_count": 19,
   "metadata": {},
   "outputs": [],
   "source": [
    "# effect prediction on training sample\n",
    "effec_on_nontreat = nn.predict(x_counter)[0:half_size] - nn.predict(x)[0:half_size]\n",
    "effec_on_treat = nn.predict(x)[half_size:] - nn.predict(x_counter)[half_size:]"
   ]
  },
  {
   "cell_type": "code",
   "execution_count": 22,
   "metadata": {},
   "outputs": [
    {
     "data": {
      "text/plain": [
       "1.0076118531667566"
      ]
     },
     "execution_count": 22,
     "metadata": {},
     "output_type": "execute_result"
    }
   ],
   "source": [
    "np.mean(effec_on_nontreat)"
   ]
  },
  {
   "cell_type": "code",
   "execution_count": 23,
   "metadata": {},
   "outputs": [
    {
     "data": {
      "text/plain": [
       "1.0076121247729286"
      ]
     },
     "execution_count": 23,
     "metadata": {},
     "output_type": "execute_result"
    }
   ],
   "source": [
    "np.mean(effec_on_treat)"
   ]
  },
  {
   "cell_type": "code",
   "execution_count": 29,
   "metadata": {},
   "outputs": [
    {
     "data": {
      "text/plain": [
       "0.0003308498320210379"
      ]
     },
     "execution_count": 29,
     "metadata": {},
     "output_type": "execute_result"
    }
   ],
   "source": [
    "np.var(effec_on_nontreat)"
   ]
  },
  {
   "cell_type": "code",
   "execution_count": 30,
   "metadata": {},
   "outputs": [
    {
     "data": {
      "text/plain": [
       "0.00032470210288134484"
      ]
     },
     "execution_count": 30,
     "metadata": {},
     "output_type": "execute_result"
    }
   ],
   "source": [
    "np.var(effec_on_treat)"
   ]
  },
  {
   "cell_type": "code",
   "execution_count": 27,
   "metadata": {},
   "outputs": [],
   "source": [
    "# effect on new samples\n",
    "z_new = np.random.normal(size = (sample_size,1))\n",
    "\n",
    "x_new1 = np.hstack((np.hstack((const, z_new)), np.ones((sample_size,1))))\n",
    "x_new0 = np.hstack((np.hstack((const, z_new)), np.zeros((sample_size,1))))\n",
    "\n",
    "effect_on_newsample = nn.predict(x_new1) - nn.predict(x_new0)"
   ]
  },
  {
   "cell_type": "code",
   "execution_count": 28,
   "metadata": {},
   "outputs": [
    {
     "data": {
      "text/plain": [
       "1.0075487018840896"
      ]
     },
     "execution_count": 28,
     "metadata": {},
     "output_type": "execute_result"
    }
   ],
   "source": [
    "np.mean(effect_on_newsample)"
   ]
  },
  {
   "cell_type": "code",
   "execution_count": 31,
   "metadata": {},
   "outputs": [
    {
     "data": {
      "text/plain": [
       "0.00033511288999682454"
      ]
     },
     "execution_count": 31,
     "metadata": {},
     "output_type": "execute_result"
    }
   ],
   "source": [
    "np.var(effect_on_newsample)"
   ]
  },
  {
   "cell_type": "markdown",
   "metadata": {},
   "source": [
    "### specification 2\n",
    "\n",
    "This specification include the cross terms in the true model. \n",
    "\n",
    "$y_i = 1 - z_i + d_i + \\frac{1}{2}z_i d_i + \\epsilon_i$\n",
    "\n",
    "So the treatment effect on the person whose $Z = z_i$ is $1+\\frac{1}{2}z_i$."
   ]
  },
  {
   "cell_type": "code",
   "execution_count": 97,
   "metadata": {},
   "outputs": [],
   "source": [
    "# data generation\n",
    "np.random.seed(0)\n",
    "sample_size = 100000\n",
    "half_size = int(sample_size/2)\n",
    "z = np.random.normal(size = (sample_size,1))\n",
    "d1 = np.ones((half_size,1))\n",
    "d0 = np.zeros((half_size,1))\n",
    "d = np.vstack((d0,d1))\n",
    "cross = np.multiply(z, d)\n",
    "const = np.ones((sample_size,1))\n",
    "x_origin = np.hstack((np.hstack((const, z)), d))\n",
    "x = np.hstack((np.hstack((np.hstack((const, z)), d)), cross))\n",
    "y = 1 + -z + d + 1/2*cross + np.random.normal(scale = 0.5, size = (sample_size,1))\n",
    "\n",
    "# make counter X\n",
    "d1_counter = np.zeros((half_size,1))\n",
    "d0_counter = np.ones((half_size,1))\n",
    "d_counter = np.vstack((d0_counter, d1_counter))\n",
    "cross_counter = np.multiply(z, d_counter)\n",
    "x_counter_origin = np.hstack((np.hstack((const, z)), d_counter))\n",
    "x_counter = np.hstack((np.hstack((np.hstack((const, z)), d_counter)), cross_counter))"
   ]
  },
  {
   "cell_type": "markdown",
   "metadata": {},
   "source": [
    "### regression"
   ]
  },
  {
   "cell_type": "code",
   "execution_count": 86,
   "metadata": {},
   "outputs": [
    {
     "name": "stdout",
     "output_type": "stream",
     "text": [
      "Coefficients: \n",
      " [[ 1.00535582 -1.00286055  0.99434548  0.50649793]]\n"
     ]
    }
   ],
   "source": [
    "# regression\n",
    "regr = linear_model.LinearRegression(fit_intercept=False)\n",
    "regr.fit(x, y)\n",
    "\n",
    "# The coefficients\n",
    "print('Coefficients: \\n', regr.coef_)"
   ]
  },
  {
   "cell_type": "code",
   "execution_count": 87,
   "metadata": {},
   "outputs": [],
   "source": [
    "# the estimated individual treatment effects\n",
    "estimated_ITE = [regr.coef_[0][2] + regr.coef_[0][3]*i[0] for i in z]\n",
    "true_ITE = [1 + 1/2*i[0] for i in z]"
   ]
  },
  {
   "cell_type": "code",
   "execution_count": 88,
   "metadata": {},
   "outputs": [
    {
     "data": {
      "text/plain": [
       "<matplotlib.collections.PathCollection at 0x1a1fa1eb70>"
      ]
     },
     "execution_count": 88,
     "metadata": {},
     "output_type": "execute_result"
    },
    {
     "data": {
      "image/png": "[encoded data removed]",
      "text/plain": [
       "<Figure size 432x288 with 1 Axes>"
      ]
     },
     "metadata": {
      "needs_background": "light"
     },
     "output_type": "display_data"
    }
   ],
   "source": [
    "plt.scatter(true_ITE, estimated_ITE)"
   ]
  },
  {
   "cell_type": "code",
   "execution_count": 89,
   "metadata": {},
   "outputs": [
    {
     "data": {
      "text/plain": [
       "2.7176581774539823"
      ]
     },
     "execution_count": 89,
     "metadata": {},
     "output_type": "execute_result"
    }
   ],
   "source": [
    "# distance\n",
    "diff = np.subtract(true_ITE, estimated_ITE)\n",
    "dist_reg = np.sqrt(np.sum([i**2 for i in diff]))\n",
    "dist_reg"
   ]
  },
  {
   "cell_type": "code",
   "execution_count": 91,
   "metadata": {},
   "outputs": [
    {
     "data": {
      "text/plain": [
       "<matplotlib.collections.PathCollection at 0x1a23db01d0>"
      ]
     },
     "execution_count": 91,
     "metadata": {},
     "output_type": "execute_result"
    },
    {
     "data": {
      "image/png": "[encoded data removed]",
      "text/plain": [
       "<Figure size 432x288 with 1 Axes>"
      ]
     },
     "metadata": {
      "needs_background": "light"
     },
     "output_type": "display_data"
    }
   ],
   "source": [
    "# effect on new sample\n",
    "z_new = np.random.normal(size = (sample_size,1))\n",
    "true_ITE_newsample = [1 + 1/2 * i[0] for i in z_new]\n",
    "estimated_ITE_newsamplereg = [regr.coef_[0][2] + regr.coef_[0][3]*i[0] for i in z_new]\n",
    "plt.scatter(true_ITE_newsample, estimated_ITE_newsamplereg)"
   ]
  },
  {
   "cell_type": "code",
   "execution_count": 93,
   "metadata": {},
   "outputs": [
    {
     "data": {
      "text/plain": [
       "2.714807658272234"
      ]
     },
     "execution_count": 93,
     "metadata": {},
     "output_type": "execute_result"
    }
   ],
   "source": [
    "diff = np.subtract(true_ITE_newsample, estimated_ITE_newsamplereg)\n",
    "dist_reg2 = np.sqrt(np.sum([i**2 for i in diff]))\n",
    "dist_reg2"
   ]
  },
  {
   "cell_type": "code",
   "execution_count": 123,
   "metadata": {},
   "outputs": [
    {
     "name": "stdout",
     "output_type": "stream",
     "text": [
      "Coefficients: \n",
      " [[ 1.00631794 -0.74927062  0.99514041]]\n"
     ]
    }
   ],
   "source": [
    "# misspecificationを考える（nnではactivationによってcrossを明示的に入れなくてもうまくいくので）\n",
    "# crossを入れ損ねるケース\n",
    "# heteroをやる余地がないのでそりゃ当然だめ\n",
    "regr2 = linear_model.LinearRegression(fit_intercept=False)\n",
    "regr2.fit(x_origin, y)\n",
    "\n",
    "# The coefficients\n",
    "print('Coefficients: \\n', regr2.coef_)"
   ]
  },
  {
   "cell_type": "markdown",
   "metadata": {},
   "source": [
    "### neural nets"
   ]
  },
  {
   "cell_type": "code",
   "execution_count": 115,
   "metadata": {},
   "outputs": [
    {
     "name": "stderr",
     "output_type": "stream",
     "text": [
      "/Users/keiikegami/anaconda3/lib/python3.7/site-packages/sklearn/neural_network/multilayer_perceptron.py:1306: DataConversionWarning: A column-vector y was passed when a 1d array was expected. Please change the shape of y to (n_samples, ), for example using ravel().\n",
      "  y = column_or_1d(y, warn=True)\n"
     ]
    },
    {
     "data": {
      "text/plain": [
       "MLPRegressor(activation='relu', alpha=0.0001, batch_size='auto', beta_1=0.9,\n",
       "       beta_2=0.999, early_stopping=False, epsilon=1e-08,\n",
       "       hidden_layer_sizes=(10,), learning_rate='constant',\n",
       "       learning_rate_init=0.001, max_iter=200, momentum=0.9,\n",
       "       nesterovs_momentum=True, power_t=0.5, random_state=None,\n",
       "       shuffle=True, solver='adam', tol=0.0001, validation_fraction=0.1,\n",
       "       verbose=False, warm_start=False)"
      ]
     },
     "execution_count": 115,
     "metadata": {},
     "output_type": "execute_result"
    }
   ],
   "source": [
    "# neural nets\n",
    "# layerは2みたいに少なすぎるとダメ\n",
    "# 10がちょうどいい\n",
    "# 100とかデカ過ぎてもダメ\n",
    "# activationでも結構変わる。identity、reluは良い。logistic, tanhはダメ\n",
    "nn = MLPRegressor(hidden_layer_sizes=(10, ), activation='relu')\n",
    "nn.fit(x, y)"
   ]
  },
  {
   "cell_type": "code",
   "execution_count": 116,
   "metadata": {},
   "outputs": [],
   "source": [
    "# effect prediction on training sample 1\n",
    "effec_on_nontreat = nn.predict(x_counter)[0:half_size] - nn.predict(x)[0:half_size]\n",
    "effec_on_treat = nn.predict(x)[half_size:] - nn.predict(x_counter)[half_size:]"
   ]
  },
  {
   "cell_type": "code",
   "execution_count": 117,
   "metadata": {},
   "outputs": [],
   "source": [
    "ITE_on_sample = np.hstack((effec_on_nontreat, effec_on_treat))"
   ]
  },
  {
   "cell_type": "code",
   "execution_count": 118,
   "metadata": {},
   "outputs": [
    {
     "data": {
      "text/plain": [
       "<matplotlib.collections.PathCollection at 0x1a24e3ff98>"
      ]
     },
     "execution_count": 118,
     "metadata": {},
     "output_type": "execute_result"
    },
    {
     "data": {
      "image/png": "[encoded data removed]",
      "text/plain": [
       "<Figure size 432x288 with 1 Axes>"
      ]
     },
     "metadata": {
      "needs_background": "light"
     },
     "output_type": "display_data"
    }
   ],
   "source": [
    "plt.scatter(true_ITE, ITE_on_sample)"
   ]
  },
  {
   "cell_type": "code",
   "execution_count": 114,
   "metadata": {},
   "outputs": [
    {
     "data": {
      "text/plain": [
       "12.01820980362247"
      ]
     },
     "execution_count": 114,
     "metadata": {},
     "output_type": "execute_result"
    }
   ],
   "source": [
    "diff_nn = np.subtract(ITE_on_sample, true_ITE)\n",
    "dist_nn = np.sqrt(np.sum([i**2 for i in diff_nn]))\n",
    "dist_nn"
   ]
  },
  {
   "cell_type": "code",
   "execution_count": 119,
   "metadata": {},
   "outputs": [
    {
     "data": {
      "text/plain": [
       "158.108887632532"
      ]
     },
     "execution_count": 119,
     "metadata": {},
     "output_type": "execute_result"
    }
   ],
   "source": [
    "# effect prediction on training sample 2\n",
    "# こっちの方が悪くなるの意外?\n",
    "effec_on_nontreat2 = nn.predict(x_counter)[0:half_size] - y[0:half_size].T\n",
    "effec_on_treat2 = y[half_size:].T - nn.predict(x_counter)[half_size:]\n",
    "ITE_on_sample2 = np.hstack((effec_on_nontreat2, effec_on_treat2))\n",
    "diff_nn2 = np.subtract(ITE_on_sample2, true_ITE)\n",
    "dist_nn2 = np.sqrt(np.sum([i**2 for i in diff_nn2]))\n",
    "dist_nn2"
   ]
  },
  {
   "cell_type": "code",
   "execution_count": 120,
   "metadata": {},
   "outputs": [
    {
     "data": {
      "text/plain": [
       "<matplotlib.collections.PathCollection at 0x1a227fd2b0>"
      ]
     },
     "execution_count": 120,
     "metadata": {},
     "output_type": "execute_result"
    },
    {
     "data": {
      "image/png": "[encoded data removed]",
      "text/plain": [
       "<Figure size 432x288 with 1 Axes>"
      ]
     },
     "metadata": {
      "needs_background": "light"
     },
     "output_type": "display_data"
    }
   ],
   "source": [
    "plt.scatter(true_ITE, ITE_on_sample2)"
   ]
  },
  {
   "cell_type": "code",
   "execution_count": 121,
   "metadata": {},
   "outputs": [
    {
     "data": {
      "text/plain": [
       "<matplotlib.collections.PathCollection at 0x1a27c74b00>"
      ]
     },
     "execution_count": 121,
     "metadata": {},
     "output_type": "execute_result"
    },
    {
     "data": {
      "image/png": "[encoded data removed]",
      "text/plain": [
       "<Figure size 432x288 with 1 Axes>"
      ]
     },
     "metadata": {
      "needs_background": "light"
     },
     "output_type": "display_data"
    }
   ],
   "source": [
    "# effect on new sample\n",
    "\n",
    "x_new1 = np.hstack((np.hstack((np.hstack((const, z_new)), np.ones((sample_size,1)))), z_new))\n",
    "x_new0 = np.hstack((np.hstack((np.hstack((const, z_new)), np.zeros((sample_size,1)))), np.zeros((sample_size,1))))\n",
    "\n",
    "ITE_on_newsample_nn = nn.predict(x_new1) - nn.predict(x_new0)\n",
    "\n",
    "plt.scatter(true_ITE_newsample, ITE_on_newsample_nn)"
   ]
  },
  {
   "cell_type": "code",
   "execution_count": 122,
   "metadata": {},
   "outputs": [
    {
     "data": {
      "text/plain": [
       "6.959580814983664"
      ]
     },
     "execution_count": 122,
     "metadata": {},
     "output_type": "execute_result"
    }
   ],
   "source": [
    "diff_nn2 = np.subtract(true_ITE_newsample, ITE_on_newsample_nn)\n",
    "dist_nn2 = np.sqrt(np.sum([i**2 for i in diff_nn2]))\n",
    "dist_nn2"
   ]
  },
  {
   "cell_type": "code",
   "execution_count": 124,
   "metadata": {},
   "outputs": [
    {
     "name": "stderr",
     "output_type": "stream",
     "text": [
      "/Users/keiikegami/anaconda3/lib/python3.7/site-packages/sklearn/neural_network/multilayer_perceptron.py:1306: DataConversionWarning: A column-vector y was passed when a 1d array was expected. Please change the shape of y to (n_samples, ), for example using ravel().\n",
      "  y = column_or_1d(y, warn=True)\n"
     ]
    },
    {
     "data": {
      "text/plain": [
       "<matplotlib.collections.PathCollection at 0x1a2811fb70>"
      ]
     },
     "execution_count": 124,
     "metadata": {},
     "output_type": "execute_result"
    },
    {
     "data": {
      "image/png": "[encoded data removed]",
      "text/plain": [
       "<Figure size 432x288 with 1 Axes>"
      ]
     },
     "metadata": {
      "needs_background": "light"
     },
     "output_type": "display_data"
    }
   ],
   "source": [
    "# nnならxにcrossを入れなくてもいける？\n",
    "# x_originを使って同じことする。\n",
    "# activationがidentityだとダメだけど、reluとかなら改善する\n",
    "# これは一つ嬉しい\n",
    "nn2 = MLPRegressor(hidden_layer_sizes=(10, ), activation='relu')\n",
    "nn2.fit(x_origin, y)\n",
    "effec_on_nontreat_origin = nn2.predict(x_counter_origin)[0:half_size] - nn2.predict(x_origin)[0:half_size]\n",
    "effec_on_treat_origin = nn2.predict(x_origin)[half_size:] - nn2.predict(x_counter_origin)[half_size:]\n",
    "ITE_on_sample_origin = np.hstack((effec_on_nontreat_origin, effec_on_treat_origin))\n",
    "plt.scatter(true_ITE, ITE_on_sample_origin)"
   ]
  },
  {
   "cell_type": "code",
   "execution_count": 125,
   "metadata": {},
   "outputs": [
    {
     "data": {
      "text/plain": [
       "5.639766706396585"
      ]
     },
     "execution_count": 125,
     "metadata": {},
     "output_type": "execute_result"
    }
   ],
   "source": [
    "diff_nn2 = np.subtract(ITE_on_sample_origin, true_ITE)\n",
    "dist_nn2 = np.sqrt(np.sum([i**2 for i in diff_nn2]))\n",
    "dist_nn2"
   ]
  },
  {
   "cell_type": "code",
   "execution_count": 126,
   "metadata": {},
   "outputs": [
    {
     "name": "stderr",
     "output_type": "stream",
     "text": [
      "/Users/keiikegami/anaconda3/lib/python3.7/site-packages/sklearn/neural_network/multilayer_perceptron.py:1306: DataConversionWarning: A column-vector y was passed when a 1d array was expected. Please change the shape of y to (n_samples, ), for example using ravel().\n",
      "  y = column_or_1d(y, warn=True)\n"
     ]
    },
    {
     "data": {
      "text/plain": [
       "<matplotlib.collections.PathCollection at 0x1a1f7d53c8>"
      ]
     },
     "execution_count": 126,
     "metadata": {},
     "output_type": "execute_result"
    },
    {
     "data": {
      "image/png": "[encoded data removed]",
      "text/plain": [
       "<Figure size 432x288 with 1 Axes>"
      ]
     },
     "metadata": {
      "needs_background": "light"
     },
     "output_type": "display_data"
    }
   ],
   "source": [
    "# identity version\n",
    "nn3 = MLPRegressor(hidden_layer_sizes=(10, ), activation='identity')\n",
    "nn3.fit(x_origin, y)\n",
    "effec_on_nontreat_origin = nn3.predict(x_counter_origin)[0:half_size] - nn3.predict(x_origin)[0:half_size]\n",
    "effec_on_treat_origin = nn3.predict(x_origin)[half_size:] - nn3.predict(x_counter_origin)[half_size:]\n",
    "ITE_on_sample_origin = np.hstack((effec_on_nontreat_origin, effec_on_treat_origin))\n",
    "plt.scatter(true_ITE, ITE_on_sample_origin)"
   ]
  },
  {
   "cell_type": "code",
   "execution_count": 127,
   "metadata": {},
   "outputs": [
    {
     "data": {
      "text/plain": [
       "157.70363257116617"
      ]
     },
     "execution_count": 127,
     "metadata": {},
     "output_type": "execute_result"
    }
   ],
   "source": [
    "diff_nn2 = np.subtract(ITE_on_sample_origin, true_ITE)\n",
    "dist_nn2 = np.sqrt(np.sum([i**2 for i in diff_nn2]))\n",
    "dist_nn2"
   ]
  },
  {
   "cell_type": "markdown",
   "metadata": {},
   "source": [
    "## specification 3\n",
    "\n",
    "This specification include the cross terms in the true model. \n",
    "\n",
    "$y_i = 1 - w_i + d_i + \\frac{1}{2}w_i d_i + \\epsilon_i$\n",
    "\n",
    "So the individual treatment effect on the person whose $W = w_i$ is $1+\\frac{1}{2}w_i$.\n",
    "\n",
    "But we cannot observe $w_i$ and so use $z_i$ as the proxy. "
   ]
  },
  {
   "cell_type": "code",
   "execution_count": 56,
   "metadata": {},
   "outputs": [],
   "source": [
    "# data generation\n",
    "np.random.seed(0)\n",
    "sample_size = 100000\n",
    "half_size = int(sample_size/2)\n",
    "covariance = 0.9\n",
    "\n",
    "d1 = np.ones((half_size,1))\n",
    "d0 = np.zeros((half_size,1))\n",
    "d = np.vstack((d0,d1))\n",
    "\n",
    "const = np.ones((sample_size,1))\n",
    "\n",
    "covariate = np.random.multivariate_normal(mean = [0,0], cov = [[1, covariance],[covariance, 1]], size = sample_size)\n",
    "\n",
    "z = np.reshape(covariate[:, 0], (sample_size, 1))\n",
    "w = np.reshape(covariate[:, 1], (sample_size, 1))\n",
    "\n",
    "cross = np.multiply(z, d)\n",
    "true_cross = np.multiply(w, d)\n",
    "\n",
    "x = np.hstack((np.hstack((np.hstack((const, z)), d)), cross))\n",
    "\n",
    "y = 1 + -w + d + 1/2*true_cross + np.random.normal(scale = 0.5, size = (sample_size,1))\n",
    "\n",
    "# make counter X\n",
    "d1_counter = np.zeros((half_size,1))\n",
    "d0_counter = np.ones((half_size,1))\n",
    "d_counter = np.vstack((d0_counter, d1_counter))\n",
    "cross_counter = np.multiply(z, d_counter)\n",
    "x_counter = np.hstack((np.hstack((np.hstack((const, z)), d_counter)), cross_counter))"
   ]
  },
  {
   "cell_type": "markdown",
   "metadata": {},
   "source": [
    "### regression"
   ]
  },
  {
   "cell_type": "code",
   "execution_count": 57,
   "metadata": {},
   "outputs": [
    {
     "name": "stdout",
     "output_type": "stream",
     "text": [
      "Coefficients: \n",
      " [[ 0.99524392 -0.90515608  1.00358589  0.45642897]]\n"
     ]
    }
   ],
   "source": [
    "# regression\n",
    "regr3 = linear_model.LinearRegression(fit_intercept=False)\n",
    "regr3.fit(x, y)\n",
    "\n",
    "# The coefficients\n",
    "print('Coefficients: \\n', regr3.coef_)"
   ]
  },
  {
   "cell_type": "code",
   "execution_count": 58,
   "metadata": {},
   "outputs": [],
   "source": [
    "# the estimated individual treatment effects\n",
    "estimated_ITE = [regr3.coef_[0][2] + regr3.coef_[0][3]*i[0] for i in z]\n",
    "true_ITE = [1 + 1/2*i[0] for i in w]"
   ]
  },
  {
   "cell_type": "code",
   "execution_count": 59,
   "metadata": {},
   "outputs": [
    {
     "data": {
      "text/plain": [
       "68.7619806769933"
      ]
     },
     "execution_count": 59,
     "metadata": {},
     "output_type": "execute_result"
    }
   ],
   "source": [
    "# distance\n",
    "diff = np.subtract(true_ITE, estimated_ITE)\n",
    "dist_reg = np.sqrt(np.sum([i**2 for i in diff]))\n",
    "dist_reg"
   ]
  },
  {
   "cell_type": "code",
   "execution_count": 60,
   "metadata": {},
   "outputs": [
    {
     "data": {
      "text/plain": [
       "<matplotlib.collections.PathCollection at 0x1a1c932978>"
      ]
     },
     "execution_count": 60,
     "metadata": {},
     "output_type": "execute_result"
    },
    {
     "data": {
      "image/png": "[encoded data removed]",
      "text/plain": [
       "<Figure size 432x288 with 1 Axes>"
      ]
     },
     "metadata": {
      "needs_background": "light"
     },
     "output_type": "display_data"
    }
   ],
   "source": [
    "plt.scatter(true_ITE, estimated_ITE)"
   ]
  },
  {
   "cell_type": "code",
   "execution_count": 61,
   "metadata": {},
   "outputs": [
    {
     "data": {
      "text/plain": [
       "<matplotlib.collections.PathCollection at 0x1a1ba575c0>"
      ]
     },
     "execution_count": 61,
     "metadata": {},
     "output_type": "execute_result"
    },
    {
     "data": {
      "image/png": "[encoded data removed]",
      "text/plain": [
       "<Figure size 432x288 with 1 Axes>"
      ]
     },
     "metadata": {
      "needs_background": "light"
     },
     "output_type": "display_data"
    }
   ],
   "source": [
    "# new sample\n",
    "covariate_new = np.random.multivariate_normal(mean = [0,0], cov = [[1, covariance],[covariance, 1]], size = sample_size)\n",
    "\n",
    "z_new = np.reshape(covariate_new[:, 0], (sample_size, 1))\n",
    "w_new = np.reshape(covariate_new[:, 1], (sample_size, 1))\n",
    "\n",
    "true_ITE_newsample = [1 + 1/2 * i[0] for i in w_new]\n",
    "estimated_ITE_newsamplereg = [regr3.coef_[0][2] + regr3.coef_[0][3]*i[0] for i in z_new]\n",
    "plt.scatter(true_ITE_newsample, estimated_ITE_newsamplereg)"
   ]
  },
  {
   "cell_type": "code",
   "execution_count": 62,
   "metadata": {},
   "outputs": [
    {
     "data": {
      "text/plain": [
       "68.92579114442967"
      ]
     },
     "execution_count": 62,
     "metadata": {},
     "output_type": "execute_result"
    }
   ],
   "source": [
    "diff = np.subtract(true_ITE_newsample, estimated_ITE_newsamplereg)\n",
    "dist_reg2 = np.sqrt(np.sum([i**2 for i in diff]))\n",
    "dist_reg2"
   ]
  },
  {
   "cell_type": "markdown",
   "metadata": {},
   "source": [
    "### neural nets"
   ]
  },
  {
   "cell_type": "code",
   "execution_count": 71,
   "metadata": {},
   "outputs": [
    {
     "name": "stderr",
     "output_type": "stream",
     "text": [
      "/Users/keiikegami/anaconda3/lib/python3.7/site-packages/sklearn/neural_network/multilayer_perceptron.py:1306: DataConversionWarning: A column-vector y was passed when a 1d array was expected. Please change the shape of y to (n_samples, ), for example using ravel().\n",
      "  y = column_or_1d(y, warn=True)\n"
     ]
    }
   ],
   "source": [
    "nn = MLPRegressor(hidden_layer_sizes=(50, ), activation='relu')\n",
    "nn.fit(x, y)\n",
    "# effect prediction on training sample 1\n",
    "effec_on_nontreat = nn.predict(x_counter)[0:half_size] - nn.predict(x)[0:half_size]\n",
    "effec_on_treat = nn.predict(x)[half_size:] - nn.predict(x_counter)[half_size:]\n",
    "ITE_on_sample = np.hstack((effec_on_nontreat, effec_on_treat))\n"
   ]
  },
  {
   "cell_type": "code",
   "execution_count": 72,
   "metadata": {},
   "outputs": [
    {
     "data": {
      "text/plain": [
       "69.20965377536871"
      ]
     },
     "execution_count": 72,
     "metadata": {},
     "output_type": "execute_result"
    }
   ],
   "source": [
    "diff_nn = np.subtract(ITE_on_sample, true_ITE)\n",
    "dist_nn = np.sqrt(np.sum([i**2 for i in diff_nn]))\n",
    "dist_nn"
   ]
  },
  {
   "cell_type": "code",
   "execution_count": 73,
   "metadata": {},
   "outputs": [
    {
     "data": {
      "text/plain": [
       "<matplotlib.collections.PathCollection at 0x1a1f933588>"
      ]
     },
     "execution_count": 73,
     "metadata": {},
     "output_type": "execute_result"
    },
    {
     "data": {
      "image/png": "[encoded data removed]",
      "text/plain": [
       "<Figure size 432x288 with 1 Axes>"
      ]
     },
     "metadata": {
      "needs_background": "light"
     },
     "output_type": "display_data"
    }
   ],
   "source": [
    "plt.scatter(true_ITE, ITE_on_sample)"
   ]
  },
  {
   "cell_type": "code",
   "execution_count": 74,
   "metadata": {},
   "outputs": [
    {
     "data": {
      "text/plain": [
       "<matplotlib.collections.PathCollection at 0x1a1cace5c0>"
      ]
     },
     "execution_count": 74,
     "metadata": {},
     "output_type": "execute_result"
    },
    {
     "data": {
      "image/png": "[encoded data removed]",
      "text/plain": [
       "<Figure size 432x288 with 1 Axes>"
      ]
     },
     "metadata": {
      "needs_background": "light"
     },
     "output_type": "display_data"
    }
   ],
   "source": [
    "# effect on new sample\n",
    "x_new1 = np.hstack((np.hstack((np.hstack((const, z_new)), np.ones((sample_size,1)))), z_new))\n",
    "x_new0 = np.hstack((np.hstack((np.hstack((const, z_new)), np.zeros((sample_size,1)))), np.zeros((sample_size,1))))\n",
    "\n",
    "ITE_on_newsample_nn = nn.predict(x_new1) - nn.predict(x_new0)\n",
    "\n",
    "plt.scatter(true_ITE_newsample, ITE_on_newsample_nn)"
   ]
  },
  {
   "cell_type": "code",
   "execution_count": 75,
   "metadata": {},
   "outputs": [
    {
     "data": {
      "text/plain": [
       "69.40028674603751"
      ]
     },
     "execution_count": 75,
     "metadata": {},
     "output_type": "execute_result"
    }
   ],
   "source": [
    "diff_nn2 = np.subtract(true_ITE_newsample, ITE_on_newsample_nn)\n",
    "dist_nn2 = np.sqrt(np.sum([i**2 for i in diff_nn2]))\n",
    "dist_nn2"
   ]
  },
  {
   "cell_type": "code",
   "execution_count": null,
   "metadata": {},
   "outputs": [],
   "source": []
  }
 ],
 "metadata": {
  "kernelspec": {
   "display_name": "Python 3",
   "language": "python",
   "name": "python3"
  },
  "language_info": {
   "codemirror_mode": {
    "name": "ipython",
    "version": 3
   },
   "file_extension": ".py",
   "mimetype": "text/x-python",
   "name": "python",
   "nbconvert_exporter": "python",
   "pygments_lexer": "ipython3",
   "version": "3.7.0"
  }
 },
 "nbformat": 4,
 "nbformat_minor": 2
}
