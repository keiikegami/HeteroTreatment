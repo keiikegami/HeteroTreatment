{
 "cells": [
  {
   "cell_type": "markdown",
   "metadata": {},
   "source": [
    "# endogeneous setting\n",
    "\n",
    "Not RCT (endogeneous treatment)\n",
    "4. $y_i = x_i^{'} \\beta + \\gamma d_i + \\epsilon_i\\\\ d_i = \\begin{cases}& 1 \\quad \\text{if}\\ w_i^{'}\\delta + \\nu_i > 0\\\\ &0\\quad \\text{otherwise} \\end{cases}$\n",
    "\n",
    "5. $y_i = x_i^{'} \\beta + cross(d_i, x_i)^{'}\\gamma + \\epsilon_i\\\\ d_i = \\begin{cases}& 1 \\quad \\text{if}\\ w_i^{'}\\delta + \\nu_i > 0\\\\ &0\\quad \\text{otherwise} \\end{cases}$\n",
    "\n",
    "6. $y_i = x_i^{'} \\beta + cross(d_i, w_i)^{'}\\gamma + \\epsilon_i\\\\ d_i = \\begin{cases}& 1 \\quad \\text{if}\\ w_i^{'}\\delta + \\nu_i > 0\\\\ &0\\quad \\text{otherwise} \\end{cases}$"
   ]
  },
  {
   "cell_type": "code",
   "execution_count": null,
   "metadata": {},
   "outputs": [],
   "source": []
  }
 ],
 "metadata": {
  "kernelspec": {
   "display_name": "Python 3",
   "language": "python",
   "name": "python3"
  },
  "language_info": {
   "codemirror_mode": {
    "name": "ipython",
    "version": 3
   },
   "file_extension": ".py",
   "mimetype": "text/x-python",
   "name": "python",
   "nbconvert_exporter": "python",
   "pygments_lexer": "ipython3",
   "version": "3.7.0"
  }
 },
 "nbformat": 4,
 "nbformat_minor": 2
}
